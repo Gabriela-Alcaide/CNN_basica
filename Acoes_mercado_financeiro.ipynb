{
  "nbformat": 4,
  "nbformat_minor": 0,
  "metadata": {
    "colab": {
      "provenance": [],
      "authorship_tag": "ABX9TyPZ7S9BuXeD5WdAys3B8TYF",
      "include_colab_link": true
    },
    "kernelspec": {
      "name": "python3",
      "display_name": "Python 3"
    },
    "language_info": {
      "name": "python"
    }
  },
  "cells": [
    {
      "cell_type": "markdown",
      "metadata": {
        "id": "view-in-github",
        "colab_type": "text"
      },
      "source": [
        "<a href=\"https://colab.research.google.com/github/Gabriela-Alcaide/CNN_basica/blob/main/Acoes_mercado_financeiro.ipynb\" target=\"_parent\"><img src=\"https://colab.research.google.com/assets/colab-badge.svg\" alt=\"Open In Colab\"/></a>"
      ]
    },
    {
      "cell_type": "markdown",
      "source": [
        "# Imports."
      ],
      "metadata": {
        "id": "fIdzlM5F6yEr"
      }
    },
    {
      "cell_type": "code",
      "execution_count": null,
      "metadata": {
        "id": "L4CPebZI33OJ"
      },
      "outputs": [],
      "source": [
        "# Imports.\n",
        "import numpy as np\n",
        "import pandas as pd\n",
        "import matplotlib.pyplot as plt\n",
        "import seaborn as sns\n",
        "from sklearn.model_selection import train_test_split\n",
        "from sklearn.metrics import accuracy_score, confusion_matrix, classification_report\n",
        "import tensorflow as tf\n",
        "from tensorflow.keras import layers, models\n",
        "\n",
        "from google.colab import files\n",
        "import pandas as pd\n",
        "\n",
        "from sklearn.preprocessing import LabelEncoder\n",
        "from sklearn.preprocessing import MinMaxScaler\n",
        "\n",
        "\n",
        "\n",
        "# sns.set(style='whitegrid')"
      ]
    },
    {
      "cell_type": "markdown",
      "source": [
        "# Arquivos."
      ],
      "metadata": {
        "id": "mH9h7_bbbZMf"
      }
    },
    {
      "cell_type": "code",
      "source": [
        "uploaded = files.upload()"
      ],
      "metadata": {
        "colab": {
          "base_uri": "https://localhost:8080/",
          "height": 316
        },
        "id": "iTdu83L76VDV",
        "outputId": "af5bba60-a6bf-480f-8c7e-d76f3c2c7233"
      },
      "execution_count": null,
      "outputs": [
        {
          "output_type": "display_data",
          "data": {
            "text/plain": [
              "<IPython.core.display.HTML object>"
            ],
            "text/html": [
              "\n",
              "     <input type=\"file\" id=\"files-86c67981-adb0-4211-ae9c-ad9b491d5664\" name=\"files[]\" multiple disabled\n",
              "        style=\"border:none\" />\n",
              "     <output id=\"result-86c67981-adb0-4211-ae9c-ad9b491d5664\">\n",
              "      Upload widget is only available when the cell has been executed in the\n",
              "      current browser session. Please rerun this cell to enable.\n",
              "      </output>\n",
              "      <script>// Copyright 2017 Google LLC\n",
              "//\n",
              "// Licensed under the Apache License, Version 2.0 (the \"License\");\n",
              "// you may not use this file except in compliance with the License.\n",
              "// You may obtain a copy of the License at\n",
              "//\n",
              "//      http://www.apache.org/licenses/LICENSE-2.0\n",
              "//\n",
              "// Unless required by applicable law or agreed to in writing, software\n",
              "// distributed under the License is distributed on an \"AS IS\" BASIS,\n",
              "// WITHOUT WARRANTIES OR CONDITIONS OF ANY KIND, either express or implied.\n",
              "// See the License for the specific language governing permissions and\n",
              "// limitations under the License.\n",
              "\n",
              "/**\n",
              " * @fileoverview Helpers for google.colab Python module.\n",
              " */\n",
              "(function(scope) {\n",
              "function span(text, styleAttributes = {}) {\n",
              "  const element = document.createElement('span');\n",
              "  element.textContent = text;\n",
              "  for (const key of Object.keys(styleAttributes)) {\n",
              "    element.style[key] = styleAttributes[key];\n",
              "  }\n",
              "  return element;\n",
              "}\n",
              "\n",
              "// Max number of bytes which will be uploaded at a time.\n",
              "const MAX_PAYLOAD_SIZE = 100 * 1024;\n",
              "\n",
              "function _uploadFiles(inputId, outputId) {\n",
              "  const steps = uploadFilesStep(inputId, outputId);\n",
              "  const outputElement = document.getElementById(outputId);\n",
              "  // Cache steps on the outputElement to make it available for the next call\n",
              "  // to uploadFilesContinue from Python.\n",
              "  outputElement.steps = steps;\n",
              "\n",
              "  return _uploadFilesContinue(outputId);\n",
              "}\n",
              "\n",
              "// This is roughly an async generator (not supported in the browser yet),\n",
              "// where there are multiple asynchronous steps and the Python side is going\n",
              "// to poll for completion of each step.\n",
              "// This uses a Promise to block the python side on completion of each step,\n",
              "// then passes the result of the previous step as the input to the next step.\n",
              "function _uploadFilesContinue(outputId) {\n",
              "  const outputElement = document.getElementById(outputId);\n",
              "  const steps = outputElement.steps;\n",
              "\n",
              "  const next = steps.next(outputElement.lastPromiseValue);\n",
              "  return Promise.resolve(next.value.promise).then((value) => {\n",
              "    // Cache the last promise value to make it available to the next\n",
              "    // step of the generator.\n",
              "    outputElement.lastPromiseValue = value;\n",
              "    return next.value.response;\n",
              "  });\n",
              "}\n",
              "\n",
              "/**\n",
              " * Generator function which is called between each async step of the upload\n",
              " * process.\n",
              " * @param {string} inputId Element ID of the input file picker element.\n",
              " * @param {string} outputId Element ID of the output display.\n",
              " * @return {!Iterable<!Object>} Iterable of next steps.\n",
              " */\n",
              "function* uploadFilesStep(inputId, outputId) {\n",
              "  const inputElement = document.getElementById(inputId);\n",
              "  inputElement.disabled = false;\n",
              "\n",
              "  const outputElement = document.getElementById(outputId);\n",
              "  outputElement.innerHTML = '';\n",
              "\n",
              "  const pickedPromise = new Promise((resolve) => {\n",
              "    inputElement.addEventListener('change', (e) => {\n",
              "      resolve(e.target.files);\n",
              "    });\n",
              "  });\n",
              "\n",
              "  const cancel = document.createElement('button');\n",
              "  inputElement.parentElement.appendChild(cancel);\n",
              "  cancel.textContent = 'Cancel upload';\n",
              "  const cancelPromise = new Promise((resolve) => {\n",
              "    cancel.onclick = () => {\n",
              "      resolve(null);\n",
              "    };\n",
              "  });\n",
              "\n",
              "  // Wait for the user to pick the files.\n",
              "  const files = yield {\n",
              "    promise: Promise.race([pickedPromise, cancelPromise]),\n",
              "    response: {\n",
              "      action: 'starting',\n",
              "    }\n",
              "  };\n",
              "\n",
              "  cancel.remove();\n",
              "\n",
              "  // Disable the input element since further picks are not allowed.\n",
              "  inputElement.disabled = true;\n",
              "\n",
              "  if (!files) {\n",
              "    return {\n",
              "      response: {\n",
              "        action: 'complete',\n",
              "      }\n",
              "    };\n",
              "  }\n",
              "\n",
              "  for (const file of files) {\n",
              "    const li = document.createElement('li');\n",
              "    li.append(span(file.name, {fontWeight: 'bold'}));\n",
              "    li.append(span(\n",
              "        `(${file.type || 'n/a'}) - ${file.size} bytes, ` +\n",
              "        `last modified: ${\n",
              "            file.lastModifiedDate ? file.lastModifiedDate.toLocaleDateString() :\n",
              "                                    'n/a'} - `));\n",
              "    const percent = span('0% done');\n",
              "    li.appendChild(percent);\n",
              "\n",
              "    outputElement.appendChild(li);\n",
              "\n",
              "    const fileDataPromise = new Promise((resolve) => {\n",
              "      const reader = new FileReader();\n",
              "      reader.onload = (e) => {\n",
              "        resolve(e.target.result);\n",
              "      };\n",
              "      reader.readAsArrayBuffer(file);\n",
              "    });\n",
              "    // Wait for the data to be ready.\n",
              "    let fileData = yield {\n",
              "      promise: fileDataPromise,\n",
              "      response: {\n",
              "        action: 'continue',\n",
              "      }\n",
              "    };\n",
              "\n",
              "    // Use a chunked sending to avoid message size limits. See b/62115660.\n",
              "    let position = 0;\n",
              "    do {\n",
              "      const length = Math.min(fileData.byteLength - position, MAX_PAYLOAD_SIZE);\n",
              "      const chunk = new Uint8Array(fileData, position, length);\n",
              "      position += length;\n",
              "\n",
              "      const base64 = btoa(String.fromCharCode.apply(null, chunk));\n",
              "      yield {\n",
              "        response: {\n",
              "          action: 'append',\n",
              "          file: file.name,\n",
              "          data: base64,\n",
              "        },\n",
              "      };\n",
              "\n",
              "      let percentDone = fileData.byteLength === 0 ?\n",
              "          100 :\n",
              "          Math.round((position / fileData.byteLength) * 100);\n",
              "      percent.textContent = `${percentDone}% done`;\n",
              "\n",
              "    } while (position < fileData.byteLength);\n",
              "  }\n",
              "\n",
              "  // All done.\n",
              "  yield {\n",
              "    response: {\n",
              "      action: 'complete',\n",
              "    }\n",
              "  };\n",
              "}\n",
              "\n",
              "scope.google = scope.google || {};\n",
              "scope.google.colab = scope.google.colab || {};\n",
              "scope.google.colab._files = {\n",
              "  _uploadFiles,\n",
              "  _uploadFilesContinue,\n",
              "};\n",
              "})(self);\n",
              "</script> "
            ]
          },
          "metadata": {}
        },
        {
          "output_type": "stream",
          "name": "stdout",
          "text": [
            "Saving teste_BBAS.csv to teste_BBAS (4).csv\n",
            "Saving teste_CSNA.csv to teste_CSNA (3).csv\n",
            "Saving teste_PETR.csv to teste_PETR (2).csv\n",
            "Saving teste_VALE.csv to teste_VALE (2).csv\n",
            "Saving treino_BBAS.csv to treino_BBAS (4).csv\n",
            "Saving treino_CSNA.csv to treino_CSNA (3).csv\n",
            "Saving treino_PETR.csv to treino_PETR (2).csv\n",
            "Saving treino_VALE.csv to treino_VALE (2).csv\n"
          ]
        }
      ]
    },
    {
      "cell_type": "code",
      "source": [
        "# BBAS.\n",
        "treino_BBAS = pd.read_csv('treino_BBAS.csv')\n",
        "teste_BBAS = pd.read_csv('teste_BBAS.csv')\n",
        "\n",
        "# CSNA.\n",
        "treino_CSNA = pd.read_csv('treino_CSNA.csv')\n",
        "teste_CSNA = pd.read_csv('teste_CSNA.csv')\n",
        "\n",
        "# PETR.\n",
        "treino_PETR = pd.read_csv('treino_PETR.csv')\n",
        "teste_PETR = pd.read_csv('teste_PETR.csv')\n",
        "\n",
        "# VALE.\n",
        "treino_VALE = pd.read_csv('treino_VALE.csv')\n",
        "teste_VALE = pd.read_csv('teste_VALE.csv')"
      ],
      "metadata": {
        "id": "RD-25T9E6rV_"
      },
      "execution_count": null,
      "outputs": []
    },
    {
      "cell_type": "code",
      "source": [
        "# Slit em X e Y.\n",
        "\n",
        "# BBAS.\n",
        "treino_BBAS_x = treino_BBAS.drop('Label', axis=1)\n",
        "treino_BBAS_x = treino_BBAS_x.select_dtypes(include=[np.number])\n",
        "\n",
        "treino_BBAS_y = treino_BBAS['Label']\n",
        "\n",
        "teste_BBAS_x = teste_BBAS.drop('Label', axis=1)\n",
        "teste_BBAS_x = teste_BBAS_x.select_dtypes(include=[np.number])\n",
        "\n",
        "teste_BBAS_y = teste_BBAS['Label']\n",
        "\n",
        "# CSNA.\n",
        "treino_CSNA_x = treino_CSNA.drop('Label', axis=1)\n",
        "treino_CSNA_x = treino_CSNA_x.select_dtypes(include=[np.number])\n",
        "\n",
        "treino_CSNA_y = treino_CSNA['Label']\n",
        "\n",
        "teste_CSNA_x = teste_CSNA.drop('Label', axis=1)\n",
        "teste_CSNA_x = teste_CSNA_x.select_dtypes(include=[np.number])\n",
        "\n",
        "teste_CSNA_y = teste_CSNA['Label']\n",
        "\n",
        "# PETR.\n",
        "treino_PETR_x = treino_PETR.drop('Label', axis=1)\n",
        "treino_PETR_x = treino_PETR_x.select_dtypes(include=[np.number])\n",
        "\n",
        "treino_PETR_y = treino_PETR['Label']\n",
        "\n",
        "teste_PETR_x = teste_PETR.drop('Label', axis=1)\n",
        "teste_PETR_x = teste_PETR_x.select_dtypes(include=[np.number])\n",
        "\n",
        "teste_PETR_y = teste_PETR['Label']\n",
        "\n",
        "# VALE.\n",
        "treino_VALE_x = treino_VALE.drop('Label', axis=1)\n",
        "treino_VALE_x = treino_VALE_x.select_dtypes(include=[np.number])\n",
        "\n",
        "treino_VALE_y = treino_VALE['Label']\n",
        "\n",
        "teste_VALE_x = teste_VALE.drop('Label', axis=1)\n",
        "teste_VALE_x = teste_VALE_x.select_dtypes(include=[np.number])\n",
        "\n",
        "teste_VALE_y = teste_VALE['Label']"
      ],
      "metadata": {
        "id": "BDSUfiCI7HZc"
      },
      "execution_count": null,
      "outputs": []
    },
    {
      "cell_type": "code",
      "source": [
        "# Codificação dos rótulos.\n",
        "\n",
        "# BBAS.\n",
        "encoder = LabelEncoder()\n",
        "treino_BBAS_y = encoder.fit_transform(treino_BBAS_y)\n",
        "teste_BBAS_y = encoder.transform(teste_BBAS_y)\n",
        "\n",
        "# CSNA.\n",
        "encoder = LabelEncoder()\n",
        "treino_CSNA_y = encoder.fit_transform(treino_CSNA_y)\n",
        "teste_CSNA_y = encoder.transform(teste_CSNA_y)\n",
        "\n",
        "# PETR.\n",
        "encoder = LabelEncoder()\n",
        "treino_PETR_y = encoder.fit_transform(treino_PETR_y)\n",
        "teste_PETR_y = encoder.transform(teste_PETR_y)\n",
        "\n",
        "# VALE.\n",
        "encoder = LabelEncoder()\n",
        "treino_VALE_y = encoder.fit_transform(treino_VALE_y)\n",
        "teste_VALE_y = encoder.transform(teste_VALE_y)"
      ],
      "metadata": {
        "id": "pr_NkjA6F8iz"
      },
      "execution_count": null,
      "outputs": []
    },
    {
      "cell_type": "markdown",
      "source": [
        "# Escalonar"
      ],
      "metadata": {
        "id": "U8nz7U358QW1"
      }
    },
    {
      "cell_type": "code",
      "source": [
        "# BBAS.\n",
        "scaler = MinMaxScaler()\n",
        "treino_BBAS_x = scaler.fit_transform(treino_BBAS_x)\n",
        "teste_BBAS_x = scaler.transform(teste_BBAS_x)\n",
        "\n",
        "# CSNA.\n",
        "scaler = MinMaxScaler()\n",
        "treino_CSNA_x = scaler.fit_transform(treino_CSNA_x)\n",
        "teste_CSNA_x = scaler.transform(teste_CSNA_x)\n",
        "\n",
        "# PETR.\n",
        "scaler = MinMaxScaler()\n",
        "treino_PETR_x = scaler.fit_transform(treino_PETR_x)\n",
        "teste_PETR_x = scaler.transform(teste_PETR_x)\n",
        "\n",
        "# VALE.\n",
        "scaler = MinMaxScaler()\n",
        "treino_VALE_x = scaler.fit_transform(treino_VALE_x)\n",
        "teste_VALE_x = scaler.transform(teste_VALE_x)"
      ],
      "metadata": {
        "id": "c9QH-ajSE12C"
      },
      "execution_count": null,
      "outputs": []
    },
    {
      "cell_type": "markdown",
      "source": [
        "# Ação BBAS."
      ],
      "metadata": {
        "id": "Q7kfZCrUDclx"
      }
    },
    {
      "cell_type": "code",
      "source": [
        "# Definindo e treinando um modelo CNN 1D\n",
        "modelo_cnn_BBAS = models.Sequential([\n",
        "    layers.Conv1D(64, kernel_size=3, activation='relu', input_shape=(treino_BBAS_x.shape[1], 1)),\n",
        "    layers.MaxPooling1D(pool_size=2),\n",
        "    layers.Flatten(),\n",
        "    layers.Dense(128, activation='relu'),\n",
        "    layers.Dense(1, activation='sigmoid')\n",
        "#    layers.Dropout(0.3),\n",
        "])"
      ],
      "metadata": {
        "colab": {
          "base_uri": "https://localhost:8080/"
        },
        "id": "XjkSrDmeDgXW",
        "outputId": "31ee7f91-729b-440c-d60d-bc83bd8027f3"
      },
      "execution_count": null,
      "outputs": [
        {
          "output_type": "stream",
          "name": "stderr",
          "text": [
            "/usr/local/lib/python3.10/dist-packages/keras/src/layers/convolutional/base_conv.py:107: UserWarning: Do not pass an `input_shape`/`input_dim` argument to a layer. When using Sequential models, prefer using an `Input(shape)` object as the first layer in the model instead.\n",
            "  super().__init__(activity_regularizer=activity_regularizer, **kwargs)\n"
          ]
        }
      ]
    },
    {
      "cell_type": "code",
      "source": [
        "modelo_cnn_BBAS.compile(optimizer='adam', loss='binary_crossentropy', metrics=['accuracy'])"
      ],
      "metadata": {
        "id": "WzF0En3XDof2"
      },
      "execution_count": null,
      "outputs": []
    },
    {
      "cell_type": "code",
      "source": [
        "treino_BBAS_x = treino_BBAS_x[..., np.newaxis]"
      ],
      "metadata": {
        "id": "m8WQ5zEVEEaW"
      },
      "execution_count": null,
      "outputs": []
    },
    {
      "cell_type": "code",
      "source": [
        "# Treinando o modelo\n",
        "modelo_cnn_BBAS.fit(treino_BBAS_x[..., np.newaxis], treino_BBAS_y, epochs=20, batch_size=32, validation_split=0.2)"
      ],
      "metadata": {
        "colab": {
          "base_uri": "https://localhost:8080/"
        },
        "id": "KqYHdsuhDrQY",
        "outputId": "d7222870-8635-4073-e5cc-c0736aa4d88f"
      },
      "execution_count": null,
      "outputs": [
        {
          "output_type": "stream",
          "name": "stdout",
          "text": [
            "Epoch 1/20\n",
            "\u001b[1m119/119\u001b[0m \u001b[32m━━━━━━━━━━━━━━━━━━━━\u001b[0m\u001b[37m\u001b[0m \u001b[1m2s\u001b[0m 6ms/step - accuracy: 0.5516 - loss: 0.6862 - val_accuracy: 0.5143 - val_loss: 0.7079\n",
            "Epoch 2/20\n",
            "\u001b[1m119/119\u001b[0m \u001b[32m━━━━━━━━━━━━━━━━━━━━\u001b[0m\u001b[37m\u001b[0m \u001b[1m1s\u001b[0m 4ms/step - accuracy: 0.5720 - loss: 0.6780 - val_accuracy: 0.5143 - val_loss: 0.7873\n",
            "Epoch 3/20\n",
            "\u001b[1m119/119\u001b[0m \u001b[32m━━━━━━━━━━━━━━━━━━━━\u001b[0m\u001b[37m\u001b[0m \u001b[1m1s\u001b[0m 5ms/step - accuracy: 0.5755 - loss: 0.6730 - val_accuracy: 0.5238 - val_loss: 0.7438\n",
            "Epoch 4/20\n",
            "\u001b[1m119/119\u001b[0m \u001b[32m━━━━━━━━━━━━━━━━━━━━\u001b[0m\u001b[37m\u001b[0m \u001b[1m1s\u001b[0m 4ms/step - accuracy: 0.6325 - loss: 0.6485 - val_accuracy: 0.5744 - val_loss: 0.6758\n",
            "Epoch 5/20\n",
            "\u001b[1m119/119\u001b[0m \u001b[32m━━━━━━━━━━━━━━━━━━━━\u001b[0m\u001b[37m\u001b[0m \u001b[1m1s\u001b[0m 5ms/step - accuracy: 0.6906 - loss: 0.6148 - val_accuracy: 0.8099 - val_loss: 0.4509\n",
            "Epoch 6/20\n",
            "\u001b[1m119/119\u001b[0m \u001b[32m━━━━━━━━━━━━━━━━━━━━\u001b[0m\u001b[37m\u001b[0m \u001b[1m1s\u001b[0m 6ms/step - accuracy: 0.7224 - loss: 0.5677 - val_accuracy: 0.8036 - val_loss: 0.4288\n",
            "Epoch 7/20\n",
            "\u001b[1m119/119\u001b[0m \u001b[32m━━━━━━━━━━━━━━━━━━━━\u001b[0m\u001b[37m\u001b[0m \u001b[1m1s\u001b[0m 8ms/step - accuracy: 0.7585 - loss: 0.5016 - val_accuracy: 0.8310 - val_loss: 0.3532\n",
            "Epoch 8/20\n",
            "\u001b[1m119/119\u001b[0m \u001b[32m━━━━━━━━━━━━━━━━━━━━\u001b[0m\u001b[37m\u001b[0m \u001b[1m1s\u001b[0m 8ms/step - accuracy: 0.7961 - loss: 0.4521 - val_accuracy: 0.8395 - val_loss: 0.3543\n",
            "Epoch 9/20\n",
            "\u001b[1m119/119\u001b[0m \u001b[32m━━━━━━━━━━━━━━━━━━━━\u001b[0m\u001b[37m\u001b[0m \u001b[1m1s\u001b[0m 5ms/step - accuracy: 0.8015 - loss: 0.4398 - val_accuracy: 0.8458 - val_loss: 0.3386\n",
            "Epoch 10/20\n",
            "\u001b[1m119/119\u001b[0m \u001b[32m━━━━━━━━━━━━━━━━━━━━\u001b[0m\u001b[37m\u001b[0m \u001b[1m1s\u001b[0m 5ms/step - accuracy: 0.8145 - loss: 0.4242 - val_accuracy: 0.8490 - val_loss: 0.3442\n",
            "Epoch 11/20\n",
            "\u001b[1m119/119\u001b[0m \u001b[32m━━━━━━━━━━━━━━━━━━━━\u001b[0m\u001b[37m\u001b[0m \u001b[1m1s\u001b[0m 5ms/step - accuracy: 0.8359 - loss: 0.3943 - val_accuracy: 0.8585 - val_loss: 0.3200\n",
            "Epoch 12/20\n",
            "\u001b[1m119/119\u001b[0m \u001b[32m━━━━━━━━━━━━━━━━━━━━\u001b[0m\u001b[37m\u001b[0m \u001b[1m1s\u001b[0m 5ms/step - accuracy: 0.8287 - loss: 0.3995 - val_accuracy: 0.8564 - val_loss: 0.3262\n",
            "Epoch 13/20\n",
            "\u001b[1m119/119\u001b[0m \u001b[32m━━━━━━━━━━━━━━━━━━━━\u001b[0m\u001b[37m\u001b[0m \u001b[1m1s\u001b[0m 4ms/step - accuracy: 0.8341 - loss: 0.3945 - val_accuracy: 0.8638 - val_loss: 0.3083\n",
            "Epoch 14/20\n",
            "\u001b[1m119/119\u001b[0m \u001b[32m━━━━━━━━━━━━━━━━━━━━\u001b[0m\u001b[37m\u001b[0m \u001b[1m1s\u001b[0m 5ms/step - accuracy: 0.8250 - loss: 0.4088 - val_accuracy: 0.8754 - val_loss: 0.3010\n",
            "Epoch 15/20\n",
            "\u001b[1m119/119\u001b[0m \u001b[32m━━━━━━━━━━━━━━━━━━━━\u001b[0m\u001b[37m\u001b[0m \u001b[1m1s\u001b[0m 5ms/step - accuracy: 0.8429 - loss: 0.3751 - val_accuracy: 0.8754 - val_loss: 0.2967\n",
            "Epoch 16/20\n",
            "\u001b[1m119/119\u001b[0m \u001b[32m━━━━━━━━━━━━━━━━━━━━\u001b[0m\u001b[37m\u001b[0m \u001b[1m1s\u001b[0m 4ms/step - accuracy: 0.8460 - loss: 0.3587 - val_accuracy: 0.8617 - val_loss: 0.3480\n",
            "Epoch 17/20\n",
            "\u001b[1m119/119\u001b[0m \u001b[32m━━━━━━━━━━━━━━━━━━━━\u001b[0m\u001b[37m\u001b[0m \u001b[1m1s\u001b[0m 5ms/step - accuracy: 0.8466 - loss: 0.3564 - val_accuracy: 0.8691 - val_loss: 0.3069\n",
            "Epoch 18/20\n",
            "\u001b[1m119/119\u001b[0m \u001b[32m━━━━━━━━━━━━━━━━━━━━\u001b[0m\u001b[37m\u001b[0m \u001b[1m1s\u001b[0m 4ms/step - accuracy: 0.8621 - loss: 0.3337 - val_accuracy: 0.8712 - val_loss: 0.2976\n",
            "Epoch 19/20\n",
            "\u001b[1m119/119\u001b[0m \u001b[32m━━━━━━━━━━━━━━━━━━━━\u001b[0m\u001b[37m\u001b[0m \u001b[1m1s\u001b[0m 5ms/step - accuracy: 0.8561 - loss: 0.3477 - val_accuracy: 0.8733 - val_loss: 0.2941\n",
            "Epoch 20/20\n",
            "\u001b[1m119/119\u001b[0m \u001b[32m━━━━━━━━━━━━━━━━━━━━\u001b[0m\u001b[37m\u001b[0m \u001b[1m1s\u001b[0m 5ms/step - accuracy: 0.8535 - loss: 0.3448 - val_accuracy: 0.8775 - val_loss: 0.2899\n"
          ]
        },
        {
          "output_type": "execute_result",
          "data": {
            "text/plain": [
              "<keras.src.callbacks.history.History at 0x7bfc02b529e0>"
            ]
          },
          "metadata": {},
          "execution_count": 289
        }
      ]
    },
    {
      "cell_type": "code",
      "source": [
        "# Avaliação.\n",
        "teste_BBAS_x = teste_BBAS_x[..., np.newaxis]\n",
        "\n",
        "predicoes_BBAS = modelo_cnn_BBAS.predict(teste_BBAS_x[..., np.newaxis]).round()\n",
        "print(f\"Acurácia: {accuracy_score(teste_BBAS_y, predicoes_BBAS)}\")\n",
        "print(\"Matriz de Confusão:\")\n",
        "print(confusion_matrix(teste_BBAS_y, predicoes_BBAS))\n",
        "print(classification_report(teste_BBAS_y, predicoes_BBAS))"
      ],
      "metadata": {
        "colab": {
          "base_uri": "https://localhost:8080/"
        },
        "id": "Rzu4b8Tpfb35",
        "outputId": "46ed8bc7-38b3-402e-eeaf-c00dc9d07a41"
      },
      "execution_count": null,
      "outputs": [
        {
          "output_type": "stream",
          "name": "stdout",
          "text": [
            "\u001b[1m38/38\u001b[0m \u001b[32m━━━━━━━━━━━━━━━━━━━━\u001b[0m\u001b[37m\u001b[0m \u001b[1m0s\u001b[0m 4ms/step\n",
            "Acurácia: 0.8430379746835444\n",
            "Matriz de Confusão:\n",
            "[[572 117]\n",
            " [ 69 427]]\n",
            "              precision    recall  f1-score   support\n",
            "\n",
            "           0       0.89      0.83      0.86       689\n",
            "           1       0.78      0.86      0.82       496\n",
            "\n",
            "    accuracy                           0.84      1185\n",
            "   macro avg       0.84      0.85      0.84      1185\n",
            "weighted avg       0.85      0.84      0.84      1185\n",
            "\n"
          ]
        }
      ]
    },
    {
      "cell_type": "markdown",
      "source": [
        "# Ação CSNA."
      ],
      "metadata": {
        "id": "5B5FqUXLYzX4"
      }
    },
    {
      "cell_type": "code",
      "source": [
        "# Definindo e treinando um modelo CNN 1D.\n",
        "modelo_cnn_CSNA = models.Sequential([\n",
        "    layers.Conv1D(64, kernel_size=3, activation='relu', input_shape=(treino_CSNA_x.shape[1], 1)),\n",
        "    layers.MaxPooling1D(pool_size=2),\n",
        "    layers.Flatten(),\n",
        "    layers.Dense(128, activation='relu'),\n",
        "    layers.Dense(1, activation='sigmoid')\n",
        "#    layers.Dropout(0.3),\n",
        "])"
      ],
      "metadata": {
        "colab": {
          "base_uri": "https://localhost:8080/"
        },
        "outputId": "3651be5a-e6c1-47ae-bc8f-14dbc2f11837",
        "id": "pf4DSitjgJIC"
      },
      "execution_count": null,
      "outputs": [
        {
          "output_type": "stream",
          "name": "stderr",
          "text": [
            "/usr/local/lib/python3.10/dist-packages/keras/src/layers/convolutional/base_conv.py:107: UserWarning: Do not pass an `input_shape`/`input_dim` argument to a layer. When using Sequential models, prefer using an `Input(shape)` object as the first layer in the model instead.\n",
            "  super().__init__(activity_regularizer=activity_regularizer, **kwargs)\n"
          ]
        }
      ]
    },
    {
      "cell_type": "code",
      "source": [
        "modelo_cnn_CSNA.compile(optimizer='adam', loss='binary_crossentropy', metrics=['accuracy'])"
      ],
      "metadata": {
        "id": "jQv-siTSgJIM"
      },
      "execution_count": null,
      "outputs": []
    },
    {
      "cell_type": "code",
      "source": [
        "treino_CSNA_x = treino_CSNA_x[..., np.newaxis]"
      ],
      "metadata": {
        "id": "xtg445ZPgJIN"
      },
      "execution_count": null,
      "outputs": []
    },
    {
      "cell_type": "code",
      "source": [
        "# Treinando o modelo\n",
        "modelo_cnn_CSNA.fit(treino_CSNA_x[..., np.newaxis], treino_CSNA_y, epochs=20, batch_size=32, validation_split=0.2)"
      ],
      "metadata": {
        "colab": {
          "base_uri": "https://localhost:8080/"
        },
        "outputId": "3369b5ad-b295-415c-bef5-3ab28e04eb6e",
        "id": "CBoh2mtQgJIN"
      },
      "execution_count": null,
      "outputs": [
        {
          "output_type": "stream",
          "name": "stdout",
          "text": [
            "Epoch 1/20\n",
            "\u001b[1m119/119\u001b[0m \u001b[32m━━━━━━━━━━━━━━━━━━━━\u001b[0m\u001b[37m\u001b[0m \u001b[1m4s\u001b[0m 6ms/step - accuracy: 0.5546 - loss: 0.6841 - val_accuracy: 0.5933 - val_loss: 0.6590\n",
            "Epoch 2/20\n",
            "\u001b[1m119/119\u001b[0m \u001b[32m━━━━━━━━━━━━━━━━━━━━\u001b[0m\u001b[37m\u001b[0m \u001b[1m1s\u001b[0m 4ms/step - accuracy: 0.5763 - loss: 0.6692 - val_accuracy: 0.6333 - val_loss: 0.5758\n",
            "Epoch 3/20\n",
            "\u001b[1m119/119\u001b[0m \u001b[32m━━━━━━━━━━━━━━━━━━━━\u001b[0m\u001b[37m\u001b[0m \u001b[1m1s\u001b[0m 4ms/step - accuracy: 0.7075 - loss: 0.5942 - val_accuracy: 0.7608 - val_loss: 0.4612\n",
            "Epoch 4/20\n",
            "\u001b[1m119/119\u001b[0m \u001b[32m━━━━━━━━━━━━━━━━━━━━\u001b[0m\u001b[37m\u001b[0m \u001b[1m1s\u001b[0m 5ms/step - accuracy: 0.7884 - loss: 0.4934 - val_accuracy: 0.8714 - val_loss: 0.3690\n",
            "Epoch 5/20\n",
            "\u001b[1m119/119\u001b[0m \u001b[32m━━━━━━━━━━━━━━━━━━━━\u001b[0m\u001b[37m\u001b[0m \u001b[1m1s\u001b[0m 4ms/step - accuracy: 0.8111 - loss: 0.4438 - val_accuracy: 0.8577 - val_loss: 0.3398\n",
            "Epoch 6/20\n",
            "\u001b[1m119/119\u001b[0m \u001b[32m━━━━━━━━━━━━━━━━━━━━\u001b[0m\u001b[37m\u001b[0m \u001b[1m1s\u001b[0m 4ms/step - accuracy: 0.8243 - loss: 0.4125 - val_accuracy: 0.8556 - val_loss: 0.3273\n",
            "Epoch 7/20\n",
            "\u001b[1m119/119\u001b[0m \u001b[32m━━━━━━━━━━━━━━━━━━━━\u001b[0m\u001b[37m\u001b[0m \u001b[1m1s\u001b[0m 4ms/step - accuracy: 0.8333 - loss: 0.3949 - val_accuracy: 0.8346 - val_loss: 0.3619\n",
            "Epoch 8/20\n",
            "\u001b[1m119/119\u001b[0m \u001b[32m━━━━━━━━━━━━━━━━━━━━\u001b[0m\u001b[37m\u001b[0m \u001b[1m1s\u001b[0m 4ms/step - accuracy: 0.8477 - loss: 0.3746 - val_accuracy: 0.8514 - val_loss: 0.3262\n",
            "Epoch 9/20\n",
            "\u001b[1m119/119\u001b[0m \u001b[32m━━━━━━━━━━━━━━━━━━━━\u001b[0m\u001b[37m\u001b[0m \u001b[1m1s\u001b[0m 5ms/step - accuracy: 0.8174 - loss: 0.4140 - val_accuracy: 0.8535 - val_loss: 0.3169\n",
            "Epoch 10/20\n",
            "\u001b[1m119/119\u001b[0m \u001b[32m━━━━━━━━━━━━━━━━━━━━\u001b[0m\u001b[37m\u001b[0m \u001b[1m1s\u001b[0m 5ms/step - accuracy: 0.8544 - loss: 0.3495 - val_accuracy: 0.8714 - val_loss: 0.2964\n",
            "Epoch 11/20\n",
            "\u001b[1m119/119\u001b[0m \u001b[32m━━━━━━━━━━━━━━━━━━━━\u001b[0m\u001b[37m\u001b[0m \u001b[1m1s\u001b[0m 4ms/step - accuracy: 0.8568 - loss: 0.3403 - val_accuracy: 0.8662 - val_loss: 0.2972\n",
            "Epoch 12/20\n",
            "\u001b[1m119/119\u001b[0m \u001b[32m━━━━━━━━━━━━━━━━━━━━\u001b[0m\u001b[37m\u001b[0m \u001b[1m1s\u001b[0m 5ms/step - accuracy: 0.8519 - loss: 0.3433 - val_accuracy: 0.8862 - val_loss: 0.2785\n",
            "Epoch 13/20\n",
            "\u001b[1m119/119\u001b[0m \u001b[32m━━━━━━━━━━━━━━━━━━━━\u001b[0m\u001b[37m\u001b[0m \u001b[1m1s\u001b[0m 4ms/step - accuracy: 0.8603 - loss: 0.3383 - val_accuracy: 0.8483 - val_loss: 0.3409\n",
            "Epoch 14/20\n",
            "\u001b[1m119/119\u001b[0m \u001b[32m━━━━━━━━━━━━━━━━━━━━\u001b[0m\u001b[37m\u001b[0m \u001b[1m1s\u001b[0m 4ms/step - accuracy: 0.8432 - loss: 0.3580 - val_accuracy: 0.8546 - val_loss: 0.3141\n",
            "Epoch 15/20\n",
            "\u001b[1m119/119\u001b[0m \u001b[32m━━━━━━━━━━━━━━━━━━━━\u001b[0m\u001b[37m\u001b[0m \u001b[1m1s\u001b[0m 4ms/step - accuracy: 0.8472 - loss: 0.3483 - val_accuracy: 0.8683 - val_loss: 0.2914\n",
            "Epoch 16/20\n",
            "\u001b[1m119/119\u001b[0m \u001b[32m━━━━━━━━━━━━━━━━━━━━\u001b[0m\u001b[37m\u001b[0m \u001b[1m1s\u001b[0m 8ms/step - accuracy: 0.8489 - loss: 0.3195 - val_accuracy: 0.8641 - val_loss: 0.2947\n",
            "Epoch 17/20\n",
            "\u001b[1m119/119\u001b[0m \u001b[32m━━━━━━━━━━━━━━━━━━━━\u001b[0m\u001b[37m\u001b[0m \u001b[1m1s\u001b[0m 9ms/step - accuracy: 0.8626 - loss: 0.3294 - val_accuracy: 0.8999 - val_loss: 0.2526\n",
            "Epoch 18/20\n",
            "\u001b[1m119/119\u001b[0m \u001b[32m━━━━━━━━━━━━━━━━━━━━\u001b[0m\u001b[37m\u001b[0m \u001b[1m1s\u001b[0m 7ms/step - accuracy: 0.8635 - loss: 0.3229 - val_accuracy: 0.8609 - val_loss: 0.3033\n",
            "Epoch 19/20\n",
            "\u001b[1m119/119\u001b[0m \u001b[32m━━━━━━━━━━━━━━━━━━━━\u001b[0m\u001b[37m\u001b[0m \u001b[1m1s\u001b[0m 5ms/step - accuracy: 0.8597 - loss: 0.3179 - val_accuracy: 0.8978 - val_loss: 0.2521\n",
            "Epoch 20/20\n",
            "\u001b[1m119/119\u001b[0m \u001b[32m━━━━━━━━━━━━━━━━━━━━\u001b[0m\u001b[37m\u001b[0m \u001b[1m1s\u001b[0m 4ms/step - accuracy: 0.8662 - loss: 0.2970 - val_accuracy: 0.8620 - val_loss: 0.2945\n"
          ]
        },
        {
          "output_type": "execute_result",
          "data": {
            "text/plain": [
              "<keras.src.callbacks.history.History at 0x7bfc045050f0>"
            ]
          },
          "metadata": {},
          "execution_count": 308
        }
      ]
    },
    {
      "cell_type": "code",
      "source": [
        "# Avaliação.\n",
        "teste_CSNA_x = teste_CSNA_x[..., np.newaxis]\n",
        "\n",
        "predicoes_CSNA = modelo_cnn_CSNA.predict(teste_CSNA_x[..., np.newaxis]).round()\n",
        "print(f\"Acurácia: {accuracy_score(teste_CSNA_y, predicoes_CSNA)}\")\n",
        "print(\"Matriz de Confusão:\")\n",
        "print(confusion_matrix(teste_CSNA_y, predicoes_CSNA))\n",
        "print(classification_report(teste_CSNA_y, predicoes_CSNA))"
      ],
      "metadata": {
        "colab": {
          "base_uri": "https://localhost:8080/"
        },
        "outputId": "248d1dbe-b0b2-41a8-aa3a-7020711b717e",
        "id": "sxuNROnqgJIN"
      },
      "execution_count": null,
      "outputs": [
        {
          "output_type": "stream",
          "name": "stdout",
          "text": [
            "\u001b[1m38/38\u001b[0m \u001b[32m━━━━━━━━━━━━━━━━━━━━\u001b[0m\u001b[37m\u001b[0m \u001b[1m0s\u001b[0m 3ms/step\n",
            "Acurácia: 0.8591905564924115\n",
            "Matriz de Confusão:\n",
            "[[591  97]\n",
            " [ 70 428]]\n",
            "              precision    recall  f1-score   support\n",
            "\n",
            "           0       0.89      0.86      0.88       688\n",
            "           1       0.82      0.86      0.84       498\n",
            "\n",
            "    accuracy                           0.86      1186\n",
            "   macro avg       0.85      0.86      0.86      1186\n",
            "weighted avg       0.86      0.86      0.86      1186\n",
            "\n"
          ]
        }
      ]
    },
    {
      "cell_type": "markdown",
      "source": [
        "# Ação PETR."
      ],
      "metadata": {
        "id": "_AUZu9sKjK7T"
      }
    },
    {
      "cell_type": "code",
      "source": [
        "# Definindo e treinando um modelo CNN 1D.\n",
        "modelo_cnn_PETR = models.Sequential([\n",
        "    layers.Conv1D(64, kernel_size=3, activation='relu', input_shape=(treino_PETR_x.shape[1], 1)),\n",
        "    layers.MaxPooling1D(pool_size=2),\n",
        "    layers.Flatten(),\n",
        "    layers.Dense(128, activation='relu'),\n",
        "    layers.Dense(1, activation='sigmoid')\n",
        "#    layers.Dropout(0.3),\n",
        "])"
      ],
      "metadata": {
        "colab": {
          "base_uri": "https://localhost:8080/"
        },
        "outputId": "145bfc8e-bb7f-48a4-9a4f-c6852f29fdd9",
        "id": "IY3d16jwjMN_"
      },
      "execution_count": null,
      "outputs": [
        {
          "output_type": "stream",
          "name": "stderr",
          "text": [
            "/usr/local/lib/python3.10/dist-packages/keras/src/layers/convolutional/base_conv.py:107: UserWarning: Do not pass an `input_shape`/`input_dim` argument to a layer. When using Sequential models, prefer using an `Input(shape)` object as the first layer in the model instead.\n",
            "  super().__init__(activity_regularizer=activity_regularizer, **kwargs)\n"
          ]
        }
      ]
    },
    {
      "cell_type": "code",
      "source": [
        "modelo_cnn_PETR.compile(optimizer='adam', loss='binary_crossentropy', metrics=['accuracy'])"
      ],
      "metadata": {
        "id": "nftge8IBjMOA"
      },
      "execution_count": null,
      "outputs": []
    },
    {
      "cell_type": "code",
      "source": [
        "treino_PETR_x = treino_PETR_x[..., np.newaxis]"
      ],
      "metadata": {
        "id": "h_Bj31ACjMOI"
      },
      "execution_count": null,
      "outputs": []
    },
    {
      "cell_type": "code",
      "source": [
        "# Treinando o modelo\n",
        "modelo_cnn_PETR.fit(treino_PETR_x[..., np.newaxis], treino_PETR_y, epochs=20, batch_size=32, validation_split=0.2)"
      ],
      "metadata": {
        "colab": {
          "base_uri": "https://localhost:8080/"
        },
        "outputId": "bb69d6bf-3731-4fae-9606-c38f5e858b49",
        "id": "zvwBq63jjMOI"
      },
      "execution_count": null,
      "outputs": [
        {
          "output_type": "stream",
          "name": "stdout",
          "text": [
            "Epoch 1/20\n",
            "\u001b[1m121/121\u001b[0m \u001b[32m━━━━━━━━━━━━━━━━━━━━\u001b[0m\u001b[37m\u001b[0m \u001b[1m3s\u001b[0m 10ms/step - accuracy: 0.5501 - loss: 0.6833 - val_accuracy: 0.5270 - val_loss: 0.6731\n",
            "Epoch 2/20\n",
            "\u001b[1m121/121\u001b[0m \u001b[32m━━━━━━━━━━━━━━━━━━━━\u001b[0m\u001b[37m\u001b[0m \u001b[1m1s\u001b[0m 7ms/step - accuracy: 0.5922 - loss: 0.6648 - val_accuracy: 0.6632 - val_loss: 0.6149\n",
            "Epoch 3/20\n",
            "\u001b[1m121/121\u001b[0m \u001b[32m━━━━━━━━━━━━━━━━━━━━\u001b[0m\u001b[37m\u001b[0m \u001b[1m1s\u001b[0m 5ms/step - accuracy: 0.6541 - loss: 0.6196 - val_accuracy: 0.7536 - val_loss: 0.5027\n",
            "Epoch 4/20\n",
            "\u001b[1m121/121\u001b[0m \u001b[32m━━━━━━━━━━━━━━━━━━━━\u001b[0m\u001b[37m\u001b[0m \u001b[1m1s\u001b[0m 5ms/step - accuracy: 0.7642 - loss: 0.5212 - val_accuracy: 0.6102 - val_loss: 0.6427\n",
            "Epoch 5/20\n",
            "\u001b[1m121/121\u001b[0m \u001b[32m━━━━━━━━━━━━━━━━━━━━\u001b[0m\u001b[37m\u001b[0m \u001b[1m1s\u001b[0m 5ms/step - accuracy: 0.7694 - loss: 0.5065 - val_accuracy: 0.8306 - val_loss: 0.3659\n",
            "Epoch 6/20\n",
            "\u001b[1m121/121\u001b[0m \u001b[32m━━━━━━━━━━━━━━━━━━━━\u001b[0m\u001b[37m\u001b[0m \u001b[1m1s\u001b[0m 6ms/step - accuracy: 0.8222 - loss: 0.4256 - val_accuracy: 0.8815 - val_loss: 0.3062\n",
            "Epoch 7/20\n",
            "\u001b[1m121/121\u001b[0m \u001b[32m━━━━━━━━━━━━━━━━━━━━\u001b[0m\u001b[37m\u001b[0m \u001b[1m1s\u001b[0m 8ms/step - accuracy: 0.8243 - loss: 0.4265 - val_accuracy: 0.8545 - val_loss: 0.3266\n",
            "Epoch 8/20\n",
            "\u001b[1m121/121\u001b[0m \u001b[32m━━━━━━━━━━━━━━━━━━━━\u001b[0m\u001b[37m\u001b[0m \u001b[1m1s\u001b[0m 7ms/step - accuracy: 0.8354 - loss: 0.3970 - val_accuracy: 0.8909 - val_loss: 0.2713\n",
            "Epoch 9/20\n",
            "\u001b[1m121/121\u001b[0m \u001b[32m━━━━━━━━━━━━━━━━━━━━\u001b[0m\u001b[37m\u001b[0m \u001b[1m1s\u001b[0m 5ms/step - accuracy: 0.8411 - loss: 0.3856 - val_accuracy: 0.8950 - val_loss: 0.2614\n",
            "Epoch 10/20\n",
            "\u001b[1m121/121\u001b[0m \u001b[32m━━━━━━━━━━━━━━━━━━━━\u001b[0m\u001b[37m\u001b[0m \u001b[1m1s\u001b[0m 5ms/step - accuracy: 0.8495 - loss: 0.3852 - val_accuracy: 0.8825 - val_loss: 0.2660\n",
            "Epoch 11/20\n",
            "\u001b[1m121/121\u001b[0m \u001b[32m━━━━━━━━━━━━━━━━━━━━\u001b[0m\u001b[37m\u001b[0m \u001b[1m1s\u001b[0m 5ms/step - accuracy: 0.8555 - loss: 0.3653 - val_accuracy: 0.8680 - val_loss: 0.2819\n",
            "Epoch 12/20\n",
            "\u001b[1m121/121\u001b[0m \u001b[32m━━━━━━━━━━━━━━━━━━━━\u001b[0m\u001b[37m\u001b[0m \u001b[1m1s\u001b[0m 4ms/step - accuracy: 0.8431 - loss: 0.3836 - val_accuracy: 0.8555 - val_loss: 0.2924\n",
            "Epoch 13/20\n",
            "\u001b[1m121/121\u001b[0m \u001b[32m━━━━━━━━━━━━━━━━━━━━\u001b[0m\u001b[37m\u001b[0m \u001b[1m1s\u001b[0m 8ms/step - accuracy: 0.8566 - loss: 0.3513 - val_accuracy: 0.8555 - val_loss: 0.2920\n",
            "Epoch 14/20\n",
            "\u001b[1m121/121\u001b[0m \u001b[32m━━━━━━━━━━━━━━━━━━━━\u001b[0m\u001b[37m\u001b[0m \u001b[1m1s\u001b[0m 7ms/step - accuracy: 0.8623 - loss: 0.3535 - val_accuracy: 0.8857 - val_loss: 0.2425\n",
            "Epoch 15/20\n",
            "\u001b[1m121/121\u001b[0m \u001b[32m━━━━━━━━━━━━━━━━━━━━\u001b[0m\u001b[37m\u001b[0m \u001b[1m1s\u001b[0m 8ms/step - accuracy: 0.8552 - loss: 0.3462 - val_accuracy: 0.9085 - val_loss: 0.2271\n",
            "Epoch 16/20\n",
            "\u001b[1m121/121\u001b[0m \u001b[32m━━━━━━━━━━━━━━━━━━━━\u001b[0m\u001b[37m\u001b[0m \u001b[1m1s\u001b[0m 5ms/step - accuracy: 0.8580 - loss: 0.3452 - val_accuracy: 0.8753 - val_loss: 0.2702\n",
            "Epoch 17/20\n",
            "\u001b[1m121/121\u001b[0m \u001b[32m━━━━━━━━━━━━━━━━━━━━\u001b[0m\u001b[37m\u001b[0m \u001b[1m1s\u001b[0m 4ms/step - accuracy: 0.8632 - loss: 0.3238 - val_accuracy: 0.8410 - val_loss: 0.3205\n",
            "Epoch 18/20\n",
            "\u001b[1m121/121\u001b[0m \u001b[32m━━━━━━━━━━━━━━━━━━━━\u001b[0m\u001b[37m\u001b[0m \u001b[1m1s\u001b[0m 4ms/step - accuracy: 0.8391 - loss: 0.3615 - val_accuracy: 0.7505 - val_loss: 0.4907\n",
            "Epoch 19/20\n",
            "\u001b[1m121/121\u001b[0m \u001b[32m━━━━━━━━━━━━━━━━━━━━\u001b[0m\u001b[37m\u001b[0m \u001b[1m1s\u001b[0m 4ms/step - accuracy: 0.8612 - loss: 0.3455 - val_accuracy: 0.8909 - val_loss: 0.2306\n",
            "Epoch 20/20\n",
            "\u001b[1m121/121\u001b[0m \u001b[32m━━━━━━━━━━━━━━━━━━━━\u001b[0m\u001b[37m\u001b[0m \u001b[1m1s\u001b[0m 4ms/step - accuracy: 0.8625 - loss: 0.3299 - val_accuracy: 0.8898 - val_loss: 0.2376\n"
          ]
        },
        {
          "output_type": "execute_result",
          "data": {
            "text/plain": [
              "<keras.src.callbacks.history.History at 0x7bfc02bef550>"
            ]
          },
          "metadata": {},
          "execution_count": 313
        }
      ]
    },
    {
      "cell_type": "code",
      "source": [
        "# Avaliação.\n",
        "teste_PETR_x = teste_PETR_x[..., np.newaxis]\n",
        "\n",
        "predicoes_PETR = modelo_cnn_PETR.predict(teste_PETR_x[..., np.newaxis]).round()\n",
        "print(f\"Acurácia: {accuracy_score(teste_PETR_y, predicoes_PETR)}\")\n",
        "print(\"Matriz de Confusão:\")\n",
        "print(confusion_matrix(teste_PETR_y, predicoes_PETR))\n",
        "print(classification_report(teste_PETR_y, predicoes_PETR))"
      ],
      "metadata": {
        "colab": {
          "base_uri": "https://localhost:8080/"
        },
        "outputId": "6d15b89b-0a86-4260-fa98-0a69bebe1443",
        "id": "vfpRHiVYjMOI"
      },
      "execution_count": null,
      "outputs": [
        {
          "output_type": "stream",
          "name": "stdout",
          "text": [
            "\u001b[1m38/38\u001b[0m \u001b[32m━━━━━━━━━━━━━━━━━━━━\u001b[0m\u001b[37m\u001b[0m \u001b[1m1s\u001b[0m 12ms/step\n",
            "Acurácia: 0.8412302576891105\n",
            "Matriz de Confusão:\n",
            "[[494  87]\n",
            " [104 518]]\n",
            "              precision    recall  f1-score   support\n",
            "\n",
            "           0       0.83      0.85      0.84       581\n",
            "           1       0.86      0.83      0.84       622\n",
            "\n",
            "    accuracy                           0.84      1203\n",
            "   macro avg       0.84      0.84      0.84      1203\n",
            "weighted avg       0.84      0.84      0.84      1203\n",
            "\n"
          ]
        }
      ]
    },
    {
      "cell_type": "markdown",
      "source": [
        "# Ação VALE."
      ],
      "metadata": {
        "id": "5mEJVmr-jpNl"
      }
    },
    {
      "cell_type": "code",
      "source": [
        "# Definindo e treinando um modelo CNN 1D.\n",
        "modelo_cnn_VALE = models.Sequential([\n",
        "    layers.Conv1D(64, kernel_size=3, activation='relu', input_shape=(treino_VALE_x.shape[1], 1)),\n",
        "    layers.MaxPooling1D(pool_size=2),\n",
        "    layers.Flatten(),\n",
        "    layers.Dense(128, activation='relu'),\n",
        "    layers.Dense(1, activation='sigmoid')\n",
        "#    layers.Dropout(0.3),\n",
        "])"
      ],
      "metadata": {
        "colab": {
          "base_uri": "https://localhost:8080/"
        },
        "outputId": "14156840-f030-43f3-9ea7-62b8c2e83d55",
        "id": "VtKhMUfzjvA6"
      },
      "execution_count": null,
      "outputs": [
        {
          "output_type": "stream",
          "name": "stderr",
          "text": [
            "/usr/local/lib/python3.10/dist-packages/keras/src/layers/convolutional/base_conv.py:107: UserWarning: Do not pass an `input_shape`/`input_dim` argument to a layer. When using Sequential models, prefer using an `Input(shape)` object as the first layer in the model instead.\n",
            "  super().__init__(activity_regularizer=activity_regularizer, **kwargs)\n"
          ]
        }
      ]
    },
    {
      "cell_type": "code",
      "source": [
        "modelo_cnn_VALE.compile(optimizer='adam', loss='binary_crossentropy', metrics=['accuracy'])"
      ],
      "metadata": {
        "id": "PxKDBgG6jvA7"
      },
      "execution_count": null,
      "outputs": []
    },
    {
      "cell_type": "code",
      "source": [
        "treino_VALE_x = treino_VALE_x[..., np.newaxis]"
      ],
      "metadata": {
        "id": "ztfP91bdjvA7"
      },
      "execution_count": null,
      "outputs": []
    },
    {
      "cell_type": "code",
      "source": [
        "# Treinando o modelo\n",
        "modelo_cnn_VALE.fit(treino_VALE_x[..., np.newaxis], treino_VALE_y, epochs=20, batch_size=32, validation_split=0.2)"
      ],
      "metadata": {
        "colab": {
          "base_uri": "https://localhost:8080/"
        },
        "outputId": "31427b17-6ea4-4668-ae02-917045454b13",
        "id": "rEw62R5TjvA7"
      },
      "execution_count": null,
      "outputs": [
        {
          "output_type": "stream",
          "name": "stdout",
          "text": [
            "Epoch 1/20\n",
            "\u001b[1m121/121\u001b[0m \u001b[32m━━━━━━━━━━━━━━━━━━━━\u001b[0m\u001b[37m\u001b[0m \u001b[1m3s\u001b[0m 7ms/step - accuracy: 0.5545 - loss: 0.6825 - val_accuracy: 0.5644 - val_loss: 0.6891\n",
            "Epoch 2/20\n",
            "\u001b[1m121/121\u001b[0m \u001b[32m━━━━━━━━━━━━━━━━━━━━\u001b[0m\u001b[37m\u001b[0m \u001b[1m1s\u001b[0m 7ms/step - accuracy: 0.5825 - loss: 0.6699 - val_accuracy: 0.6320 - val_loss: 0.6331\n",
            "Epoch 3/20\n",
            "\u001b[1m121/121\u001b[0m \u001b[32m━━━━━━━━━━━━━━━━━━━━\u001b[0m\u001b[37m\u001b[0m \u001b[1m1s\u001b[0m 8ms/step - accuracy: 0.6422 - loss: 0.6319 - val_accuracy: 0.6237 - val_loss: 0.5926\n",
            "Epoch 4/20\n",
            "\u001b[1m121/121\u001b[0m \u001b[32m━━━━━━━━━━━━━━━━━━━━\u001b[0m\u001b[37m\u001b[0m \u001b[1m1s\u001b[0m 8ms/step - accuracy: 0.7045 - loss: 0.5698 - val_accuracy: 0.6559 - val_loss: 0.5963\n",
            "Epoch 5/20\n",
            "\u001b[1m121/121\u001b[0m \u001b[32m━━━━━━━━━━━━━━━━━━━━\u001b[0m\u001b[37m\u001b[0m \u001b[1m1s\u001b[0m 6ms/step - accuracy: 0.7334 - loss: 0.5145 - val_accuracy: 0.7817 - val_loss: 0.4061\n",
            "Epoch 6/20\n",
            "\u001b[1m121/121\u001b[0m \u001b[32m━━━━━━━━━━━━━━━━━━━━\u001b[0m\u001b[37m\u001b[0m \u001b[1m1s\u001b[0m 4ms/step - accuracy: 0.7557 - loss: 0.4839 - val_accuracy: 0.8358 - val_loss: 0.3716\n",
            "Epoch 7/20\n",
            "\u001b[1m121/121\u001b[0m \u001b[32m━━━━━━━━━━━━━━━━━━━━\u001b[0m\u001b[37m\u001b[0m \u001b[1m1s\u001b[0m 4ms/step - accuracy: 0.7908 - loss: 0.4336 - val_accuracy: 0.8202 - val_loss: 0.3454\n",
            "Epoch 8/20\n",
            "\u001b[1m121/121\u001b[0m \u001b[32m━━━━━━━━━━━━━━━━━━━━\u001b[0m\u001b[37m\u001b[0m \u001b[1m1s\u001b[0m 5ms/step - accuracy: 0.8015 - loss: 0.4298 - val_accuracy: 0.8274 - val_loss: 0.3230\n",
            "Epoch 9/20\n",
            "\u001b[1m121/121\u001b[0m \u001b[32m━━━━━━━━━━━━━━━━━━━━\u001b[0m\u001b[37m\u001b[0m \u001b[1m1s\u001b[0m 7ms/step - accuracy: 0.8055 - loss: 0.4106 - val_accuracy: 0.8430 - val_loss: 0.3132\n",
            "Epoch 10/20\n",
            "\u001b[1m121/121\u001b[0m \u001b[32m━━━━━━━━━━━━━━━━━━━━\u001b[0m\u001b[37m\u001b[0m \u001b[1m1s\u001b[0m 7ms/step - accuracy: 0.8093 - loss: 0.4131 - val_accuracy: 0.7599 - val_loss: 0.5904\n",
            "Epoch 11/20\n",
            "\u001b[1m121/121\u001b[0m \u001b[32m━━━━━━━━━━━━━━━━━━━━\u001b[0m\u001b[37m\u001b[0m \u001b[1m1s\u001b[0m 5ms/step - accuracy: 0.7955 - loss: 0.4358 - val_accuracy: 0.8430 - val_loss: 0.3257\n",
            "Epoch 12/20\n",
            "\u001b[1m121/121\u001b[0m \u001b[32m━━━━━━━━━━━━━━━━━━━━\u001b[0m\u001b[37m\u001b[0m \u001b[1m1s\u001b[0m 4ms/step - accuracy: 0.8369 - loss: 0.3820 - val_accuracy: 0.8389 - val_loss: 0.3229\n",
            "Epoch 13/20\n",
            "\u001b[1m121/121\u001b[0m \u001b[32m━━━━━━━━━━━━━━━━━━━━\u001b[0m\u001b[37m\u001b[0m \u001b[1m1s\u001b[0m 5ms/step - accuracy: 0.8163 - loss: 0.3846 - val_accuracy: 0.8524 - val_loss: 0.3055\n",
            "Epoch 14/20\n",
            "\u001b[1m121/121\u001b[0m \u001b[32m━━━━━━━━━━━━━━━━━━━━\u001b[0m\u001b[37m\u001b[0m \u001b[1m1s\u001b[0m 4ms/step - accuracy: 0.8351 - loss: 0.3796 - val_accuracy: 0.8586 - val_loss: 0.3096\n",
            "Epoch 15/20\n",
            "\u001b[1m121/121\u001b[0m \u001b[32m━━━━━━━━━━━━━━━━━━━━\u001b[0m\u001b[37m\u001b[0m \u001b[1m1s\u001b[0m 5ms/step - accuracy: 0.8192 - loss: 0.3910 - val_accuracy: 0.8451 - val_loss: 0.3053\n",
            "Epoch 16/20\n",
            "\u001b[1m121/121\u001b[0m \u001b[32m━━━━━━━━━━━━━━━━━━━━\u001b[0m\u001b[37m\u001b[0m \u001b[1m1s\u001b[0m 4ms/step - accuracy: 0.8284 - loss: 0.3770 - val_accuracy: 0.7994 - val_loss: 0.4812\n",
            "Epoch 17/20\n",
            "\u001b[1m121/121\u001b[0m \u001b[32m━━━━━━━━━━━━━━━━━━━━\u001b[0m\u001b[37m\u001b[0m \u001b[1m1s\u001b[0m 4ms/step - accuracy: 0.8393 - loss: 0.3701 - val_accuracy: 0.8462 - val_loss: 0.3261\n",
            "Epoch 18/20\n",
            "\u001b[1m121/121\u001b[0m \u001b[32m━━━━━━━━━━━━━━━━━━━━\u001b[0m\u001b[37m\u001b[0m \u001b[1m1s\u001b[0m 7ms/step - accuracy: 0.8371 - loss: 0.3762 - val_accuracy: 0.8337 - val_loss: 0.3573\n",
            "Epoch 19/20\n",
            "\u001b[1m121/121\u001b[0m \u001b[32m━━━━━━━━━━━━━━━━━━━━\u001b[0m\u001b[37m\u001b[0m \u001b[1m1s\u001b[0m 8ms/step - accuracy: 0.8403 - loss: 0.3594 - val_accuracy: 0.8441 - val_loss: 0.3164\n",
            "Epoch 20/20\n",
            "\u001b[1m121/121\u001b[0m \u001b[32m━━━━━━━━━━━━━━━━━━━━\u001b[0m\u001b[37m\u001b[0m \u001b[1m1s\u001b[0m 8ms/step - accuracy: 0.8411 - loss: 0.3625 - val_accuracy: 0.8430 - val_loss: 0.3138\n"
          ]
        },
        {
          "output_type": "execute_result",
          "data": {
            "text/plain": [
              "<keras.src.callbacks.history.History at 0x7bfbfd1a6e60>"
            ]
          },
          "metadata": {},
          "execution_count": 318
        }
      ]
    },
    {
      "cell_type": "code",
      "source": [
        "# Avaliação.\n",
        "teste_VALE_x = teste_VALE_x[..., np.newaxis]\n",
        "\n",
        "predicoes_VALE = modelo_cnn_VALE.predict(teste_VALE_x[..., np.newaxis]).round()\n",
        "print(f\"Acurácia: {accuracy_score(teste_VALE_y, predicoes_VALE)}\")\n",
        "print(\"Matriz de Confusão:\")\n",
        "print(confusion_matrix(teste_VALE_y, predicoes_VALE))\n",
        "print(classification_report(teste_VALE_y, predicoes_VALE))"
      ],
      "metadata": {
        "colab": {
          "base_uri": "https://localhost:8080/"
        },
        "outputId": "f5b0cdf9-1b88-421f-dfd0-133791e3e9c8",
        "id": "UOvQ3Y7ljvA8"
      },
      "execution_count": null,
      "outputs": [
        {
          "output_type": "stream",
          "name": "stdout",
          "text": [
            "\u001b[1m38/38\u001b[0m \u001b[32m━━━━━━━━━━━━━━━━━━━━\u001b[0m\u001b[37m\u001b[0m \u001b[1m0s\u001b[0m 10ms/step\n",
            "Acurácia: 0.8536990856192851\n",
            "Matriz de Confusão:\n",
            "[[466 135]\n",
            " [ 41 561]]\n",
            "              precision    recall  f1-score   support\n",
            "\n",
            "           0       0.92      0.78      0.84       601\n",
            "           1       0.81      0.93      0.86       602\n",
            "\n",
            "    accuracy                           0.85      1203\n",
            "   macro avg       0.86      0.85      0.85      1203\n",
            "weighted avg       0.86      0.85      0.85      1203\n",
            "\n"
          ]
        }
      ]
    },
    {
      "cell_type": "code",
      "source": [],
      "metadata": {
        "id": "2Cs8-wLQkG9o"
      },
      "execution_count": null,
      "outputs": []
    }
  ]
}